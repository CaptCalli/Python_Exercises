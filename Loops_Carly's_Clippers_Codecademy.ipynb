{
  "nbformat": 4,
  "nbformat_minor": 0,
  "metadata": {
    "colab": {
      "name": "Loops - Carly's Clippers - Codecademy.ipynb",
      "provenance": [],
      "collapsed_sections": [],
      "authorship_tag": "ABX9TyM8zekW4OfykFzTD+uNQJXU",
      "include_colab_link": true
    },
    "kernelspec": {
      "name": "python3",
      "display_name": "Python 3"
    }
  },
  "cells": [
    {
      "cell_type": "markdown",
      "metadata": {
        "id": "view-in-github",
        "colab_type": "text"
      },
      "source": [
        "<a href=\"https://colab.research.google.com/github/CaptCalli/Python_Exercises/blob/master/Loops_Carly's_Clippers_Codecademy.ipynb\" target=\"_parent\"><img src=\"https://colab.research.google.com/assets/colab-badge.svg\" alt=\"Open In Colab\"/></a>"
      ]
    },
    {
      "cell_type": "markdown",
      "metadata": {
        "id": "pWITJbTfmL8P",
        "colab_type": "text"
      },
      "source": [
        "# Carly's Clippers\n",
        "#### A Loops Exercise from Codecademy\n",
        "\n",
        "You are the Data Analyst at Carly's Clippers, the newest hair salon on the block. Your job is to go through the lists of data that have been collected in the past couple of weeks. You will be calculating some important metrics that Carly can use to plan out the operation of the business for the rest of the month.\n",
        "\n",
        "You have been provided with three lists:\n",
        "\n",
        "- **hairstyles**: the names of the cuts offered at Carly's Clippers.\n",
        "- **prices**: the price of each hairstyle in the **hairstyles** list\n",
        "- **last_week**: the number of each hairstyle in **hairstyles** that was purchased last week\n",
        "\n",
        "Let's get started!"
      ]
    },
    {
      "cell_type": "code",
      "metadata": {
        "id": "sx19r7eaCIVl",
        "colab_type": "code",
        "colab": {}
      },
      "source": [
        "# given code:\n",
        "hairstyles = [\"bouffant\", \"pixie\", \"dreadlocks\", \"crew\", \"bowl\", \"bob\", \"mohawk\", \"flattop\"]\n",
        "\n",
        "prices = [30, 25, 40, 20, 20, 35, 50, 35]\n",
        "\n",
        "last_week = [2, 3, 5, 8, 4, 4, 6, 2]\n"
      ],
      "execution_count": null,
      "outputs": []
    },
    {
      "cell_type": "markdown",
      "metadata": {
        "id": "KnOHiqWrB2ZU",
        "colab_type": "text"
      },
      "source": [
        "1. Carly wants to be able to market her low prices. We want to find out what the average price of a cut is. \n",
        "First, let's sum up all the prices of haircuts. Create a variable **total_price**, and set it to **0**."
      ]
    },
    {
      "cell_type": "code",
      "metadata": {
        "id": "XVqvm711CFJh",
        "colab_type": "code",
        "colab": {}
      },
      "source": [
        "hairstyles = [\"bouffant\", \"pixie\", \"dreadlocks\", \"crew\", \"bowl\", \"bob\", \"mohawk\", \"flattop\"]\n",
        "\n",
        "prices = [30, 25, 40, 20, 20, 35, 50, 35]\n",
        "\n",
        "last_week = [2, 3, 5, 8, 4, 4, 6, 2]\n",
        "\n",
        "# Task 1:\n",
        "total_price = 0"
      ],
      "execution_count": null,
      "outputs": []
    },
    {
      "cell_type": "markdown",
      "metadata": {
        "id": "oSALpma0COQS",
        "colab_type": "text"
      },
      "source": [
        "2. Iterate through the **prices** list and add each price to the variable **total_price**. "
      ]
    },
    {
      "cell_type": "code",
      "metadata": {
        "id": "3GzKpfQCCXIE",
        "colab_type": "code",
        "colab": {}
      },
      "source": [
        "hairstyles = [\"bouffant\", \"pixie\", \"dreadlocks\", \"crew\", \"bowl\", \"bob\", \"mohawk\", \"flattop\"]\n",
        "\n",
        "prices = [30, 25, 40, 20, 20, 35, 50, 35]\n",
        "\n",
        "last_week = [2, 3, 5, 8, 4, 4, 6, 2]\n",
        "\n",
        "total_price = 0\n",
        "\n",
        "# Task 2:\n",
        "for price in prices:\n",
        "  total_price += price"
      ],
      "execution_count": null,
      "outputs": []
    },
    {
      "cell_type": "markdown",
      "metadata": {
        "id": "_o2rdKWwCdLE",
        "colab_type": "text"
      },
      "source": [
        "3. After your loop, create a variable called **average_price** that is the **total_price** divided by the number of prices. \n",
        "You can get the number of prices by using the len()function.\n",
        "\n",
        "4. Print the value of **average_price** so the output looks like:\n",
        "\"Average Haircut Price: average_price"
      ]
    },
    {
      "cell_type": "code",
      "metadata": {
        "id": "3-JoeAgjCnqX",
        "colab_type": "code",
        "colab": {
          "base_uri": "https://localhost:8080/",
          "height": 34
        },
        "outputId": "1c331ace-8b51-403d-f8f3-1d298d4f523b"
      },
      "source": [
        "hairstyles = [\"bouffant\", \"pixie\", \"dreadlocks\", \"crew\", \"bowl\", \"bob\", \"mohawk\", \"flattop\"]\n",
        "\n",
        "prices = [30, 25, 40, 20, 20, 35, 50, 35]\n",
        "\n",
        "last_week = [2, 3, 5, 8, 4, 4, 6, 2]\n",
        "\n",
        "total_price = 0\n",
        "\n",
        "for price in prices:\n",
        "  total_price += price\n",
        "\n",
        "# Task 3:\n",
        "average_price = total_price / len(prices)\n",
        "# Task 4:\n",
        "print(\"Average Haircut Price:\", average_price)"
      ],
      "execution_count": 3,
      "outputs": [
        {
          "output_type": "stream",
          "text": [
            "Average Haircut Price: 31.875\n"
          ],
          "name": "stdout"
        }
      ]
    },
    {
      "cell_type": "markdown",
      "metadata": {
        "id": "MQUh_s0MDYm2",
        "colab_type": "text"
      },
      "source": [
        "5. That average price is more expensive than Carly thought it would be! She wants to cut all prices by 5 dollars. \n",
        "Use a list comprehension to make a list called **new_prices**, which has each element in **prices** minus 5.\n",
        "\n",
        "6. Print **new_prices**"
      ]
    },
    {
      "cell_type": "code",
      "metadata": {
        "id": "qsoAi5FKDl3t",
        "colab_type": "code",
        "colab": {
          "base_uri": "https://localhost:8080/",
          "height": 51
        },
        "outputId": "b14b6263-b84b-4873-9a1e-cb177387ab32"
      },
      "source": [
        "hairstyles = [\"bouffant\", \"pixie\", \"dreadlocks\", \"crew\", \"bowl\", \"bob\", \"mohawk\", \"flattop\"]\n",
        "\n",
        "prices = [30, 25, 40, 20, 20, 35, 50, 35]\n",
        "\n",
        "last_week = [2, 3, 5, 8, 4, 4, 6, 2]\n",
        "\n",
        "total_price = 0\n",
        "\n",
        "for price in prices:\n",
        "  total_price += price\n",
        "\n",
        "average_price = total_price / len(prices)\n",
        "\n",
        "print(\"Average Haircut Price:\", average_price)\n",
        "\n",
        "# Task 5: \n",
        "new_prices = [newer_price - 5 for newer_price in prices]\n",
        "\n",
        "# Task 6: \n",
        "print(new_prices)\n",
        "\n"
      ],
      "execution_count": 6,
      "outputs": [
        {
          "output_type": "stream",
          "text": [
            "Average Haircut Price: 31.875\n",
            "[25, 20, 35, 15, 15, 30, 45, 30]\n"
          ],
          "name": "stdout"
        }
      ]
    },
    {
      "cell_type": "markdown",
      "metadata": {
        "id": "qF0KEnK6EXO6",
        "colab_type": "text"
      },
      "source": [
        "7. Carly really wants to make sure that Carly's Clippers is a profitable endeavor. She first wants to know how much revenue was brought in last week. \n",
        "Create a variable called **total_revenue** and set it to 0.\n",
        "\n",
        "8. Use a **for** loop to create a variable **i** that goes from **0** to **len(hairstyles)**.\n",
        "Hint: You can use **range()** to do this. \n",
        "\n",
        "9. Add the product of **prices[i]** (the price of the haircut at position **i**) and **last_week[i]**(the number of people who got the haircut at position **i**) to **total_revenue** at each step.\n",
        "\n",
        "10. After your loop, print the value of **total_revenue**, so the output looks like: Total Revenue: total_revenue"
      ]
    },
    {
      "cell_type": "code",
      "metadata": {
        "id": "JmjgfVhLEiOa",
        "colab_type": "code",
        "colab": {
          "base_uri": "https://localhost:8080/",
          "height": 68
        },
        "outputId": "9cd9394a-8987-414e-8345-dcb4e9e95132"
      },
      "source": [
        "hairstyles = [\"bouffant\", \"pixie\", \"dreadlocks\", \"crew\", \"bowl\", \"bob\", \"mohawk\", \"flattop\"]\n",
        "\n",
        "prices = [30, 25, 40, 20, 20, 35, 50, 35]\n",
        "\n",
        "last_week = [2, 3, 5, 8, 4, 4, 6, 2]\n",
        "\n",
        "total_price = 0\n",
        "\n",
        "for price in prices:\n",
        "  total_price += price\n",
        "\n",
        "average_price = total_price / len(prices)\n",
        "\n",
        "print(\"Average Haircut Price:\", average_price)\n",
        "\n",
        "new_prices = [newer_price - 5 for newer_price in prices]\n",
        "\n",
        "print(new_prices)\n",
        "\n",
        "# Task 7:\n",
        "total_revenue = 0\n",
        "\n",
        "# Task 8: \n",
        "for i in range(len(hairstyles)):\n",
        "  # Task 9:\n",
        "  total_revenue += (prices[i] * last_week[i])\n",
        "\n",
        "# Task 10\n",
        "print(\"Total Revenue:\", total_revenue)\n",
        "\n"
      ],
      "execution_count": 12,
      "outputs": [
        {
          "output_type": "stream",
          "text": [
            "Average Haircut Price: 31.875\n",
            "[25, 20, 35, 15, 15, 30, 45, 30]\n",
            "Total Revenue: 1085\n"
          ],
          "name": "stdout"
        }
      ]
    },
    {
      "cell_type": "markdown",
      "metadata": {
        "id": "62mO6EH2Nmo3",
        "colab_type": "text"
      },
      "source": [
        "11. Find the average daily revenue by dividing **total_revenue** by 7. Call this number **average_daily_revenue** and print it out."
      ]
    },
    {
      "cell_type": "code",
      "metadata": {
        "id": "tm78yb4_OjTa",
        "colab_type": "code",
        "colab": {
          "base_uri": "https://localhost:8080/",
          "height": 85
        },
        "outputId": "81fe434a-cbec-49ea-e40e-415177bd5106"
      },
      "source": [
        "hairstyles = [\"bouffant\", \"pixie\", \"dreadlocks\", \"crew\", \"bowl\", \"bob\", \"mohawk\", \"flattop\"]\n",
        "\n",
        "prices = [30, 25, 40, 20, 20, 35, 50, 35]\n",
        "\n",
        "last_week = [2, 3, 5, 8, 4, 4, 6, 2]\n",
        "\n",
        "total_price = 0\n",
        "\n",
        "for price in prices:\n",
        "  total_price += price\n",
        "\n",
        "average_price = total_price / len(prices)\n",
        "\n",
        "print(\"Average Haircut Price:\", average_price)\n",
        "\n",
        "new_prices = [newer_price - 5 for newer_price in prices]\n",
        "\n",
        "print(new_prices)\n",
        "\n",
        "total_revenue = 0\n",
        "\n",
        "for i in range(len(hairstyles)):\n",
        "  total_revenue += (prices[i] * last_week[i])\n",
        "\n",
        "print(\"Total Revenue:\", total_revenue)\n",
        "\n",
        "# Task 11:\n",
        "average_daily_revenue = total_revenue / 7 \n",
        "print(average_daily_revenue)"
      ],
      "execution_count": 13,
      "outputs": [
        {
          "output_type": "stream",
          "text": [
            "Average Haircut Price: 31.875\n",
            "[25, 20, 35, 15, 15, 30, 45, 30]\n",
            "Total Revenue: 1085\n",
            "155.0\n"
          ],
          "name": "stdout"
        }
      ]
    },
    {
      "cell_type": "markdown",
      "metadata": {
        "id": "n4yChHU1OvKj",
        "colab_type": "text"
      },
      "source": [
        "12. Carly thinks she can bring in more customers by advertising all of the haircuts she has that are under **30** dollars. \n",
        "Use a list comprehension to create a list called **cuts_under_30** that has the entry **hairstyles[i]** for each **i** for which **new_prices[i]** is less than **30**. \n",
        "You can use **range()** in your list comprehension to make **i** go from **0** to **len(new_prices) -1**. \n",
        "\n",
        "13. Print **cuts_under_30**"
      ]
    },
    {
      "cell_type": "code",
      "metadata": {
        "id": "WKG8kcLYS22X",
        "colab_type": "code",
        "colab": {
          "base_uri": "https://localhost:8080/",
          "height": 102
        },
        "outputId": "c4ea1e38-1ec1-46d3-ca7b-cd01eb035511"
      },
      "source": [
        "hairstyles = [\"bouffant\", \"pixie\", \"dreadlocks\", \"crew\", \"bowl\", \"bob\", \"mohawk\", \"flattop\"]\n",
        "\n",
        "prices = [30, 25, 40, 20, 20, 35, 50, 35]\n",
        "\n",
        "last_week = [2, 3, 5, 8, 4, 4, 6, 2]\n",
        "\n",
        "total_price = 0\n",
        "\n",
        "for price in prices:\n",
        "  total_price += price\n",
        "\n",
        "average_price = total_price / len(prices)\n",
        "\n",
        "print(\"Average Haircut Price:\", average_price)\n",
        "\n",
        "new_prices = [newer_price - 5 for newer_price in prices]\n",
        "\n",
        "print(new_prices)\n",
        "\n",
        "total_revenue = 0\n",
        "\n",
        "for i in range(len(hairstyles)):\n",
        "  total_revenue += (prices[i] * last_week[i])\n",
        "\n",
        "print(\"Total Revenue:\", total_revenue)\n",
        "\n",
        "average_daily_revenue = total_revenue / 7 \n",
        "print(average_daily_revenue)\n",
        "\n",
        "# Task 12: \n",
        "cuts_under_30 = [hairstyles[i] for i in range(len(new_prices)) if new_prices[i] < 30]\n",
        "# Task 13:\n",
        "print(cuts_under_30)"
      ],
      "execution_count": 15,
      "outputs": [
        {
          "output_type": "stream",
          "text": [
            "Average Haircut Price: 31.875\n",
            "[25, 20, 35, 15, 15, 30, 45, 30]\n",
            "Total Revenue: 1085\n",
            "155.0\n",
            "['bouffant', 'pixie', 'crew', 'bowl']\n"
          ],
          "name": "stdout"
        }
      ]
    }
  ]
}
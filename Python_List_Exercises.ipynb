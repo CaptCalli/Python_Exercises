{
  "nbformat": 4,
  "nbformat_minor": 0,
  "metadata": {
    "colab": {
      "name": "Python List Exercises",
      "provenance": [],
      "authorship_tag": "ABX9TyNoWd5MACpvgq+60Fg2t9J/",
      "include_colab_link": true
    },
    "kernelspec": {
      "name": "python3",
      "display_name": "Python 3"
    }
  },
  "cells": [
    {
      "cell_type": "markdown",
      "metadata": {
        "id": "view-in-github",
        "colab_type": "text"
      },
      "source": [
        "<a href=\"https://colab.research.google.com/github/CaptCalli/Python_Exercises/blob/master/Python_List_Exercises.ipynb\" target=\"_parent\"><img src=\"https://colab.research.google.com/assets/colab-badge.svg\" alt=\"Open In Colab\"/></a>"
      ]
    },
    {
      "cell_type": "markdown",
      "metadata": {
        "id": "ptfKyz6yovQF",
        "colab_type": "text"
      },
      "source": [
        "#Lists "
      ]
    },
    {
      "cell_type": "markdown",
      "metadata": {
        "id": "EGUbLstco8KW",
        "colab_type": "text"
      },
      "source": [
        "1. Every Three Numbers\n",
        "\n",
        "Create a function called **every_three_nums** that has one parameter named *start*. \n",
        "The function should return a list of every third number between start and 100 (inclusive). \n",
        "For example, every_three_nums(91) should return the list [91, 94, 97, 100]. If start is greater than 100, the function should return an empty list."
      ]
    },
    {
      "cell_type": "code",
      "metadata": {
        "id": "3j92zNHxpCds",
        "colab_type": "code",
        "colab": {
          "base_uri": "https://localhost:8080/",
          "height": 34
        },
        "outputId": "bd5180b5-941a-497c-fc74-fe461ca99af9"
      },
      "source": [
        "#Write your function here\n",
        "def every_three_nums(start): \n",
        "  list2 = list(range(start, 101, 3))\n",
        "  return list2\n",
        "  \n",
        "#Uncomment the line below when your function is done\n",
        "print(every_three_nums(91))"
      ],
      "execution_count": 1,
      "outputs": [
        {
          "output_type": "stream",
          "text": [
            "[91, 94, 97, 100]\n"
          ],
          "name": "stdout"
        }
      ]
    },
    {
      "cell_type": "markdown",
      "metadata": {
        "id": "Zi-OFPUqpF2l",
        "colab_type": "text"
      },
      "source": [
        "2. Remove Middle\n",
        "\n",
        "Create a function named **remove_middle** which has three parameters named *lst*, *start*, and *end*.\n",
        "\n",
        "The function should return a list where all elements in lst with an index between start and end (inclusive) have been removed.\n",
        "\n",
        "For example, the following code should return [4, 23, 42] because elements at indices 1, 2, and 3 have been removed:\n",
        "\n",
        "remove_middle([4, 8 , 15, 16, 23, 42], 1, 3)"
      ]
    },
    {
      "cell_type": "code",
      "metadata": {
        "id": "HUyNBZTepPrx",
        "colab_type": "code",
        "colab": {
          "base_uri": "https://localhost:8080/",
          "height": 34
        },
        "outputId": "2f49c1dd-3e2a-438c-db45-0d281157d954"
      },
      "source": [
        "#Write your function here\n",
        "def remove_middle(lst, start, end):\n",
        "  del lst[start:end+1]\n",
        "  return lst\n",
        "\n",
        "#Uncomment the line below when your function is done\n",
        "print(remove_middle([4, 8, 15, 16, 23, 42], 1, 3))"
      ],
      "execution_count": 2,
      "outputs": [
        {
          "output_type": "stream",
          "text": [
            "[4, 23, 42]\n"
          ],
          "name": "stdout"
        }
      ]
    },
    {
      "cell_type": "markdown",
      "metadata": {
        "id": "h0iTTJwgpXb-",
        "colab_type": "text"
      },
      "source": [
        "3. More Frequent Item\n",
        "\n",
        "Create a function named **more_frequent_item** that has three parameters named *lst*, *item1*, and *item2*.\n",
        "\n",
        "Return either item1 or item2 depending on which item appears more often in lst.\n",
        "\n",
        "If the two items appear the same number of times, return item1.\n"
      ]
    },
    {
      "cell_type": "code",
      "metadata": {
        "id": "vTIY8Rdspecv",
        "colab_type": "code",
        "colab": {
          "base_uri": "https://localhost:8080/",
          "height": 34
        },
        "outputId": "96ac031a-8865-4ba6-fe7e-2fc0434165ba"
      },
      "source": [
        "#Write your function here\n",
        "def more_frequent_item(lst, item1, item2):\n",
        "  if lst.count(item1) >= lst.count(item2):\n",
        "    return item1\n",
        "  else:\n",
        "    return item2\n",
        "\n",
        "#Uncomment the line below when your function is done\n",
        "print(more_frequent_item([2, 3, 3, 2, 3, 2, 3, 2, 3], 2, 3))"
      ],
      "execution_count": 3,
      "outputs": [
        {
          "output_type": "stream",
          "text": [
            "3\n"
          ],
          "name": "stdout"
        }
      ]
    },
    {
      "cell_type": "markdown",
      "metadata": {
        "id": "Ve35FKGNpfkc",
        "colab_type": "text"
      },
      "source": [
        "4. Double Index\n",
        "\n",
        "Create a function named **double_index** that has two parameters: a list named *lst* and a single number named *index*.\n",
        "\n",
        "The function should return a new list where all elements are the same as in lst except for the element at index. The element at index should be double the value of the element at index of the original lst.\n",
        "\n",
        "If index is not a valid index, the function should return the original list.\n",
        "\n",
        "For example, the following code should return [1,2,6,4] because the element at index 2 has been doubled:\n",
        "\n",
        "double_index([1, 2, 3, 4], 2)\n",
        "After writing your function, un-comment the call to the function that we’ve provided for you to test your results."
      ]
    },
    {
      "cell_type": "code",
      "metadata": {
        "id": "CoP8To6GpkIs",
        "colab_type": "code",
        "colab": {
          "base_uri": "https://localhost:8080/",
          "height": 34
        },
        "outputId": "43eee97c-c42c-405a-d310-2e3a503f104b"
      },
      "source": [
        "#Write your function here\n",
        "def double_index(lst, index):\n",
        "  if index > len(lst):\n",
        "    return lst\n",
        "\n",
        "  lst2 = lst\n",
        "  lst[index] = lst2[index]*2\n",
        "  return lst2\n",
        "\n",
        "\n",
        "\n",
        "#Uncomment the line below when your function is done\n",
        "print(double_index([3, 8, -10, 12], 2))"
      ],
      "execution_count": 29,
      "outputs": [
        {
          "output_type": "stream",
          "text": [
            "[3, 8, -20, 12]\n"
          ],
          "name": "stdout"
        }
      ]
    },
    {
      "cell_type": "markdown",
      "metadata": {
        "id": "MW_iZUQv1nck",
        "colab_type": "text"
      },
      "source": [
        "5. Middle Term\n",
        "\n",
        "Create a function called **middle_element** that has one parameter named *lst*.\n",
        "\n",
        "If there are an odd number of elements in lst, the function should return the middle element. If there are an even number of elements, the function should return the average of the middle two elements."
      ]
    },
    {
      "cell_type": "code",
      "metadata": {
        "id": "xhRypBM31r1O",
        "colab_type": "code",
        "colab": {
          "base_uri": "https://localhost:8080/",
          "height": 51
        },
        "outputId": "7f405281-4a1b-4f41-c330-c0e69164e794"
      },
      "source": [
        "#Write your function here\n",
        "def middle_element(lst):\n",
        "  if len(lst) % 2 != 0:\n",
        "    index_odd = int((len(lst)-1)/2)\n",
        "    return lst[index_odd]\n",
        "  else: \n",
        "    index_even1 = int((len(lst)/2))\n",
        "    index_even2 = int((len(lst)/2 -1))\n",
        "    return int((lst[index_even1] + lst[index_even2]) /2)\n",
        "\n",
        "  \n",
        "\n",
        "\n",
        "#Uncomment the line below when your function is done\n",
        "print(middle_element([5, 2, -10, -4, 4, 5]))\n",
        "print(middle_element([5, 2, -10, -4, 4]))"
      ],
      "execution_count": 42,
      "outputs": [
        {
          "output_type": "stream",
          "text": [
            "-7\n",
            "-10\n"
          ],
          "name": "stdout"
        }
      ]
    }
  ]
}
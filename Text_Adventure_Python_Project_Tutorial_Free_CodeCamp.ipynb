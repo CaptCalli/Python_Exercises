{
  "nbformat": 4,
  "nbformat_minor": 0,
  "metadata": {
    "colab": {
      "name": "Text - Adventure - Python Project Tutorial - Free CodeCamp",
      "provenance": [],
      "collapsed_sections": [],
      "authorship_tag": "ABX9TyNVQn03cR12zjqzBAJ7T5/O",
      "include_colab_link": true
    },
    "kernelspec": {
      "name": "python3",
      "display_name": "Python 3"
    }
  },
  "cells": [
    {
      "cell_type": "markdown",
      "metadata": {
        "id": "view-in-github",
        "colab_type": "text"
      },
      "source": [
        "<a href=\"https://colab.research.google.com/github/CaptCalli/Python_Exercises/blob/master/Text_Adventure_Python_Project_Tutorial_Free_CodeCamp.ipynb\" target=\"_parent\"><img src=\"https://colab.research.google.com/assets/colab-badge.svg\" alt=\"Open In Colab\"/></a>"
      ]
    },
    {
      "cell_type": "markdown",
      "metadata": {
        "id": "h1kgfeL1XtD0",
        "colab_type": "text"
      },
      "source": [
        "Following along a Python Project Tutorial from FreeCodeCamp.\n",
        "\n",
        "[YT link](https://www.youtube.com/watch?v=_ZqAVck-WeM)\n",
        "\n"
      ]
    },
    {
      "cell_type": "code",
      "metadata": {
        "id": "r_Yb0YwYXpXs",
        "colab_type": "code",
        "colab": {
          "base_uri": "https://localhost:8080/",
          "height": 326
        },
        "outputId": "ffc1d775-1fdb-4414-ffe2-1045f251bd44"
      },
      "source": [
        "print(\"Welcome to Snake Adventure\")\n",
        "name = input(\"What is your name? \")\n",
        "# input will show up as str so we will have to \"manually\" make it an int\n",
        "age = int(input(\"What is your age? \"))\n",
        "\n",
        "print(\"Hello\", name, \"you are\", age, \"years old.\")\n",
        "\n",
        "health = 10\n",
        "\n",
        "print(\"You are starting with\", health, \"health.\")\n",
        "\n",
        "if age >= 18: \n",
        "  print(\"You are old enough to participate!\")\n",
        "\n",
        "\n",
        "\n",
        "  wants_to_play = input(\"Would you like to play? \").lower()\n",
        "  if wants_to_play == \"yes\":\n",
        "    print(\"Let's play!\")\n",
        "  \n",
        "    weapon = input(\"Pick a weapon (sword/baton/taser): \")\n",
        "    if weapon == \"sword\" or \"baton\":\n",
        "      health += 5\n",
        "      print(\"Good Choice! You increased your health by 5 points!\")\n",
        "    elif weapon == \"taser\":\n",
        "      health += 10\n",
        "      print(\"I like your style, your healh has increased by 10 points!\")\n",
        "    else:\n",
        "      print(\"You are playing hard-mode, huh? Ok then! Good Luck.\")\n",
        "\n",
        "\n",
        "    left_or_right = input(\"First Choice ... Do you want to go Left or Right (left/right)? \").lower()\n",
        "    if left_or_right == \"left\":\n",
        "      ans = input(\"Nice, you follow the path and reach a lake... Do you swim across or go around (across/around? \").lower()\n",
        "      if ans == \"around\":\n",
        "        print(\"You went around the lake and reached the other side!\")\n",
        "      elif ans == \"across\":\n",
        "        print(\"You managed to get across, but were bit by a fish and lost 5 health.\")\n",
        "        health -= 5\n",
        "        print(\"You now have\", health, \"health\")\n",
        "      \n",
        "      ans = input(\"You notice a house and a rive. Which do you go to (river/house)? \").lower()\n",
        "      if ans == \"house\":\n",
        "        print(\"You go to the house and are greeted by the owner... He doesn't like you and you lose 5 health.\")\n",
        "        health -= 5\n",
        "\n",
        "        if health <= 0:\n",
        "          print(\"Unfortunately, you have no health left and lost.\")\n",
        "        else:\n",
        "          print(\"You have survived.... But Barely! You Win!\")\n",
        "\n",
        "      else: \n",
        "        print(\"You fell in the river and lost...\")\n",
        "\n",
        "    else:\n",
        "      print(\"You fell down and lost...\")\n",
        "  else:\n",
        "    print(\"Ok! Maybe next time...\")\n",
        "\n",
        "else:\n",
        "  print(\"Sorry, you are not old enough to participate!\")\n",
        "\n",
        "\n",
        "\n",
        "\n"
      ],
      "execution_count": 36,
      "outputs": [
        {
          "output_type": "stream",
          "text": [
            "Welcome to Snake Adventure\n",
            "What is your name? Caroline\n",
            "What is your age? 32\n",
            "Hello Caroline you are 32 years old.\n",
            "You are starting with 10 health.\n",
            "You are old enough to participate!\n",
            "Would you like to play? yes\n",
            "Let's play!\n",
            "Pick a weapon (sword/baton/taser): taser\n",
            "Good Choice! You increased your health by 5 points!\n",
            "First Choice ... Do you want to go Left or Right (left/right)? left\n",
            "Nice, you follow the path and reach a lake... Do you swim across or go around (across/around? across\n",
            "You managed to get across, but were bit by a fish and lost 5 health.\n",
            "You now have 10 health\n",
            "You notice a house and a rive. Which do you go to (river/house)? house\n",
            "You go to the house and are greeted by the owner... He doesn't like you and you lose 5 health.\n",
            "You have survived.... But Barely! You Win!\n"
          ],
          "name": "stdout"
        }
      ]
    },
    {
      "cell_type": "code",
      "metadata": {
        "id": "ErD-XIEBlpMZ",
        "colab_type": "code",
        "colab": {}
      },
      "source": [
        ""
      ],
      "execution_count": null,
      "outputs": []
    }
  ]
}